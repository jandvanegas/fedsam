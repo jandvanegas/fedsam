{
 "cells": [
  {
   "cell_type": "code",
   "execution_count": 1,
   "id": "3da7afd8-0892-44d2-b3fe-ffdede66cdb4",
   "metadata": {
    "tags": []
   },
   "outputs": [
    {
     "name": "stderr",
     "output_type": "stream",
     "text": [
      "/home/javanegas/academics/fedsam/.venv/lib/python3.8/site-packages/tqdm/auto.py:22: TqdmWarning: IProgress not found. Please update jupyter and ipywidgets. See https://ipywidgets.readthedocs.io/en/stable/user_install.html\n",
      "  from .autonotebook import tqdm as notebook_tqdm\n"
     ]
    }
   ],
   "source": [
    "\"\"\"Script to run the baselines.\"\"\"\n",
    "import importlib\n",
    "from pprint import pprint\n",
    "import inspect\n",
    "import numpy as np\n",
    "import os\n",
    "\n",
    "# os.environ[\"CUDA_DEVICE_ORDER\"]=\"PCI_BUS_ID\"\n",
    "# os.environ['CUDA_VISIBLE_DEVICES'] = \"3\"\n",
    "import random\n",
    "import torch\n",
    "import wandb\n",
    "from datetime import datetime\n",
    "\n",
    "import metrics.writer as metrics_writer\n",
    "from baseline_constants import (\n",
    "    MAIN_PARAMS,\n",
    "    MODEL_PARAMS,\n",
    ")\n",
    "from utils.args import parse_args, check_args\n",
    "from utils.cutout import Cutout\n",
    "from utils.main_utils import *\n",
    "from utils.model_utils import read_data, read_public_data\n",
    "\n",
    "os.environ[\"WANDB_API_KEY\"] = \"\"\n",
    "os.environ[\"WANDB_MODE\"] = \"offline\""
   ]
  },
  {
   "cell_type": "code",
   "execution_count": 49,
   "id": "4b57d079-be8c-4bfa-b8cb-131a5c6cbb3c",
   "metadata": {},
   "outputs": [],
   "source": [
    "from unittest.mock import Mock\n",
    "args = Mock()\n",
    "args.seed = 0\n",
    "args.alpha = 0.0\n",
    "args.device = \"cuda:0\"\n",
    "args.clients_per_round = 5\n",
    "args.num_rounds = 10\n",
    "args.model = \"destillation\"\n",
    "args.lr = 0.01\n",
    "args.algorithm = \"fedmd\"\n",
    "args.wandb_run_id = None\n",
    "args.server_opt = \"sgd\"\n",
    "args.server_momentum = 0\n",
    "args.client_algorithm = None\n",
    "args.dataset = \"cifar100\"\n",
    "args.publicdataset = \"cifar10\"\n",
    "args.t = 'large'\n",
    "args.load = False\n",
    "args.num_workers = 0\n",
    "args.batch_size = 64"
   ]
  },
  {
   "cell_type": "code",
   "execution_count": 13,
   "id": "02eb2da2-c5d4-45ab-adf3-2f2371fbe5ae",
   "metadata": {
    "tags": []
   },
   "outputs": [
    {
     "ename": "SyntaxError",
     "evalue": "invalid syntax (3444482996.py, line 1)",
     "output_type": "error",
     "traceback": [
      "\u001b[0;36m  Cell \u001b[0;32mIn[13], line 1\u001b[0;36m\u001b[0m\n\u001b[0;31m    from main import\u001b[0m\n\u001b[0m                     ^\u001b[0m\n\u001b[0;31mSyntaxError\u001b[0m\u001b[0;31m:\u001b[0m invalid syntax\n"
     ]
    }
   ],
   "source": [
    "from main import "
   ]
  },
  {
   "cell_type": "code",
   "execution_count": 50,
   "id": "d0435465-47ae-472b-8f87-9e9f971c94f6",
   "metadata": {
    "tags": []
   },
   "outputs": [
    {
     "name": "stdout",
     "output_type": "stream",
     "text": [
      "Alpha: alpha_0.00\n",
      "Using device: NVIDIA GeForce GTX 1660 Ti\n"
     ]
    },
    {
     "data": {
      "text/html": [
       "Finishing last run (ID:lvypxyix) before initializing another..."
      ],
      "text/plain": [
       "<IPython.core.display.HTML object>"
      ]
     },
     "metadata": {},
     "output_type": "display_data"
    },
    {
     "data": {
      "text/html": [
       "Waiting for W&B process to finish... <strong style=\"color:green\">(success).</strong>"
      ],
      "text/plain": [
       "<IPython.core.display.HTML object>"
      ]
     },
     "metadata": {},
     "output_type": "display_data"
    },
    {
     "data": {
      "text/html": [
       "You can sync this run to the cloud by running:<br/><code>wandb sync /home/javanegas/academics/fedsam/models/wandb/offline-run-20230206_121138-lvypxyix<code>"
      ],
      "text/plain": [
       "<IPython.core.display.HTML object>"
      ]
     },
     "metadata": {},
     "output_type": "display_data"
    },
    {
     "data": {
      "text/html": [
       "Find logs at: <code>./wandb/offline-run-20230206_121138-lvypxyix/logs</code>"
      ],
      "text/plain": [
       "<IPython.core.display.HTML object>"
      ]
     },
     "metadata": {},
     "output_type": "display_data"
    },
    {
     "data": {
      "text/html": [
       "Successfully finished last run (ID:lvypxyix). Initializing new run:<br/>"
      ],
      "text/plain": [
       "<IPython.core.display.HTML object>"
      ]
     },
     "metadata": {},
     "output_type": "display_data"
    },
    {
     "name": "stderr",
     "output_type": "stream",
     "text": [
      "\u001b[34m\u001b[1mwandb\u001b[0m: \u001b[33mWARNING\u001b[0m `resume` will be ignored since W&B syncing is set to `offline`. Starting a new run with run id bm7nenp8.\n"
     ]
    },
    {
     "data": {
      "text/html": [
       "Tracking run with wandb version 0.13.9"
      ],
      "text/plain": [
       "<IPython.core.display.HTML object>"
      ]
     },
     "metadata": {},
     "output_type": "display_data"
    },
    {
     "data": {
      "text/html": [
       "W&B syncing is set to <code>`offline`<code> in this directory.  <br/>Run <code>`wandb online`<code> or set <code>WANDB_MODE=online<code> to enable cloud syncing."
      ],
      "text/plain": [
       "<IPython.core.display.HTML object>"
      ]
     },
     "metadata": {},
     "output_type": "display_data"
    },
    {
     "name": "stdout",
     "output_type": "stream",
     "text": [
      "############################## cifar100.destillation ##############################\n"
     ]
    }
   ],
   "source": [
    "random.seed(args.seed)\n",
    "np.random.seed(args.seed)\n",
    "torch.manual_seed(args.seed)\n",
    "torch.cuda.manual_seed(args.seed)\n",
    "torch.cuda.manual_seed_all(args.seed)\n",
    "\n",
    "# CIFAR: obtain info on parameter alpha (Dirichlet's distribution)\n",
    "alpha = args.alpha\n",
    "if alpha is not None:\n",
    "    alpha = \"alpha_{:.2f}\".format(alpha)\n",
    "    print(\"Alpha:\", alpha)\n",
    "\n",
    "# Setup GPU\n",
    "device = torch.device(args.device if torch.cuda.is_available else \"cpu\")\n",
    "print(\n",
    "    \"Using device:\",\n",
    "    torch.cuda.get_device_name(device) if device != \"cpu\" else \"cpu\",\n",
    ")\n",
    "\n",
    "run, job_name = init_wandb(args, alpha, run_id=args.wandb_run_id)\n",
    "\n",
    "# Obtain the path to client's model (e.g. cifar10/cnn.py), client class and servers class\n",
    "model_path = \"%s/%s.py\" % (args.dataset, args.model)\n",
    "dataset_path = \"%s/%s.py\" % (args.dataset, \"dataloader\")\n",
    "server_path = \"servers/%s.py\" % (args.algorithm + \"_server\")\n",
    "paths = [model_path, dataset_path, server_path]\n",
    "client_sufix = (\n",
    "    f\"{args.client_algorithm}_client\"\n",
    "    if args.client_algorithm is not None\n",
    "    else \"client\"\n",
    ")\n",
    "client_path = f\"clients/{client_sufix}.py\"\n",
    "paths.append(client_path)\n",
    "check_init_paths(paths)\n",
    "\n",
    "# Experiment parameters (e.g. num rounds, clients per round, lr, etc)\n",
    "tup = MAIN_PARAMS[args.dataset][args.t]\n",
    "num_rounds = args.num_rounds if args.num_rounds != -1 else tup[0]\n",
    "eval_every = args.eval_every if args.eval_every != -1 else tup[1]\n",
    "clients_per_round = (\n",
    "    args.clients_per_round if args.clients_per_round != -1 else tup[2]\n",
    ")\n",
    "\n",
    "model_path = \"%s.%s\" % (args.dataset, args.model)\n",
    "dataset_path = \"%s.%s\" % (args.dataset, \"dataloader\")\n",
    "server_path = \"servers.%s\" % (args.algorithm + \"_server\")\n",
    "model_params = MODEL_PARAMS[model_path]\n",
    "if args.lr != -1:\n",
    "    model_params_list = list(model_params)\n",
    "    model_params_list[0] = args.lr\n",
    "    model_params = tuple(model_params_list)\n",
    "\n",
    "# Load model and dataset\n",
    "print(f\"{'#' * 30} {model_path} {'#' * 30}\")\n",
    "\n",
    "checkpoint = {}\n",
    "client_models = []\n",
    "public_models = []\n",
    "client_path = f\"clients.{client_sufix}\"\n",
    "PublicDataset = None\n",
    "mod = importlib.import_module(model_path)\n",
    "dataset = importlib.import_module(dataset_path)\n",
    "ClientDataset = getattr(dataset, \"ClientDataset\")"
   ]
  },
  {
   "cell_type": "code",
   "execution_count": 51,
   "id": "43d1311c-fb7d-4ffe-b3d8-83414887b21f",
   "metadata": {
    "tags": []
   },
   "outputs": [
    {
     "name": "stdout",
     "output_type": "stream",
     "text": [
      "Running experiment with server servers.fedmd_server and client clients.client\n",
      "fedmd\n",
      "Verify client and server: <class 'clients.client.Client'> <class 'servers.fedmd_server.FedMdServer'>\n"
     ]
    }
   ],
   "source": [
    "if args.model == \"destillation\":\n",
    "    publicmodel_path = \"%s.%s\" % (args.publicdataset, args.model)\n",
    "    publicdataset_path = \"%s.%s\" % (args.publicdataset, \"dataloader\")\n",
    "    publicdataset = importlib.import_module(publicdataset_path)\n",
    "    publicmod = importlib.import_module(publicmodel_path)\n",
    "    PublicDataset = getattr(publicdataset, \"ClientDataset\")\n",
    "    print(\"Running experiment with server\", server_path, \"and client\", client_path)\n",
    "    client_models = []\n",
    "    Client, Server = get_clients_and_server(server_path, client_path)\n",
    "    print(\"Verify client and server:\", Client, Server)\n",
    "    for model_number in range(5):\n",
    "        ClientModel = getattr(mod, f\"ClientModel{model_number}\")\n",
    "        PublicClientModel = getattr(publicmod, f\"ClientModel{model_number}\")\n",
    "        client_model = ClientModel(*model_params, device)\n",
    "        client_models.append(client_model)\n",
    "        public_client_model = PublicClientModel(*model_params, device)\n",
    "        public_models.append(public_client_model)\n",
    "    assert not args.load, \"Not implemented checkpoimws yet\"\n",
    "    client_models = [model.to(device) for model in client_models]\n",
    "    public_models = [model.to(device) for model in public_models]\n",
    "else:\n",
    "    ClientModel = getattr(mod, \"ClientModel\")\n",
    "    print(\"Running experiment with server\", server_path, \"and client\", client_path)\n",
    "    Client, Server = get_clients_and_server(server_path, client_path)\n",
    "    # Load client and server\n",
    "    print(\"Verify client and server:\", Client, Server)\n",
    "    client_model = ClientModel(*model_params, device)\n",
    "    if args.load and wandb.run and wandb.run.resumed:  # load model from checkpoint\n",
    "        [client_model], checkpoint, ckpt_path_resumed = resume_run(\n",
    "            client_model, args, wandb.run\n",
    "        )\n",
    "        if args.restart:  # start new wandb run\n",
    "            wandb.finish()\n",
    "            print(\"Starting new run...\")\n",
    "            run = init_wandb(args, alpha, run_id=None)\n",
    "    client_model = client_model.to(device)\n",
    "    client_models.append(client_model)"
   ]
  },
  {
   "cell_type": "code",
   "execution_count": 52,
   "id": "4a9e9961-18db-4587-8a34-50cbc44de3d5",
   "metadata": {
    "tags": []
   },
   "outputs": [],
   "source": [
    "server_params = define_server_params(\n",
    "    args,\n",
    "    client_models,\n",
    "    public_models,\n",
    "    args.algorithm,\n",
    "    opt_ckpt=args.load and checkpoint.get(\"opt_state_dict\"),\n",
    "    PublicDataset=PublicDataset,\n",
    ")\n",
    "server = Server(**server_params)"
   ]
  },
  {
   "cell_type": "code",
   "execution_count": null,
   "id": "fd19eaca-8839-40d7-86d9-a2c97029fdb4",
   "metadata": {
    "tags": []
   },
   "outputs": [],
   "source": [
    "if args.model == \"destillation\":\n",
    "    train_clients, _ = setup_clients(\n",
    "        args,\n",
    "        client_models,\n",
    "        public_models,\n",
    "        Client,\n",
    "        ClientDataset,\n",
    "        PublicDataset,\n",
    "        run,\n",
    "        device,\n",
    "    )\n",
    "    train_client_ids, train_client_num_samples = server.get_clients_info(train_clients)\n",
    "    print(\"Clients in Total: %d\" % len(train_clients))\n",
    "    server.set_num_clients(len(train_clients))\n",
    "else: \n",
    "    train_clients, test_clients = setup_clients(\n",
    "        args,\n",
    "        client_models,\n",
    "        public_models,\n",
    "        Client,\n",
    "        ClientDataset,\n",
    "        PublicDataset,\n",
    "        run,\n",
    "        device,\n",
    "    )\n",
    "    train_client_ids, train_client_num_samples = server.get_clients_info(train_clients)\n",
    "    test_client_ids, test_client_num_samples = server.get_clients_info(test_clients)\n",
    "    if set(train_client_ids) == set(test_client_ids):\n",
    "        print(\"Clients in Total: %d\" % len(train_clients))\n",
    "    else:\n",
    "        print(\n",
    "            f\"Clients in Total: {len(train_clients)} training clients and {len(test_clients)} test clients\"\n",
    "        )\n",
    "    server.set_num_clients(len(train_clients))"
   ]
  },
  {
   "cell_type": "code",
   "execution_count": 56,
   "id": "81908171-68fe-45b5-88f9-a47baaee0e76",
   "metadata": {
    "tags": []
   },
   "outputs": [],
   "source": [
    "args.num_workers = 0\n",
    "args.batch_size = 64"
   ]
  },
  {
   "cell_type": "code",
   "execution_count": null,
   "id": "6c0c36fb-5e6c-4fcd-aca5-6ccddc22140d",
   "metadata": {},
   "outputs": [],
   "source": []
  }
 ],
 "metadata": {
  "kernelspec": {
   "display_name": "Python 3 (ipykernel)",
   "language": "python",
   "name": "python3"
  },
  "language_info": {
   "codemirror_mode": {
    "name": "ipython",
    "version": 3
   },
   "file_extension": ".py",
   "mimetype": "text/x-python",
   "name": "python",
   "nbconvert_exporter": "python",
   "pygments_lexer": "ipython3",
   "version": "3.8.10"
  }
 },
 "nbformat": 4,
 "nbformat_minor": 5
}
